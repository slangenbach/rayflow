{
 "cells": [
  {
   "cell_type": "markdown",
   "metadata": {},
   "source": [
    "# Rayflow prototyping\n",
    "\n",
    "Explore [MLflow recipes][1] with [Ray][2] using a large dataset.\n",
    "\n",
    "### Task\n",
    "\n",
    "Build MLflow Recipe to create a pipeline to ingest, split and transform data, and train, tune, evaluate a regression model to predict the **fare_amount** of a trip with a _yellow taxi_ in NYC.\n",
    "\n",
    "### Constraints\n",
    "\n",
    "* Focus is on integrating Ray and MLflow Recipes\n",
    "* Model predicts *fare_amount* given passenger_count, trip_distance, rate_code_id and payment_type only\n",
    "* Feature engineering is kept to a minimum\n",
    "\n",
    "### Results\n",
    "\n",
    "* [x] Ingest data\n",
    "* [x] Split data (without using Ray)\n",
    "* [x] Transform data\n",
    "* [x] Train model\n",
    "* ~~[ ] Tune model~~\n",
    "* [ ] Evaluate model\n",
    "* [ ] Register model\n",
    "* [ ] Generate predictions\n",
    "\n",
    "### General observations\n",
    "\n",
    "* Ray is a super powerful framework and I only scratched the surface of its functionality\n",
    "* MLflow recipes are rather limited\n",
    "    - forces a strict layout of files on the project\n",
    "    - no possibility to add custom steps\n",
    "    - it's unclear how to pass arguments to custom functions\n",
    "* Documentation of MLflow recipes is awful\n",
    "    - One essentially has to read the source code to understand what's going on\n",
    "    - It's unclear how data flows between steps: Are they passed as DataFrames in memory? Are they automatically loaded from disk?\n",
    "* MLflow Recipe examples could be more detailed\n",
    "* Data dictionary of NYC Taxi dataset is outdated\n",
    "\n",
    "### Key insights\n",
    "\n",
    "* Ray is great, use it with a general purpose orchestrator\n",
    "\n",
    "\n",
    "[1]: https://mlflow.org/docs/latest/recipes.html\n",
    "[2]: https://docs.ray.io/en/latest/"
   ]
  },
  {
   "cell_type": "markdown",
   "metadata": {},
   "source": [
    "## Setup"
   ]
  },
  {
   "cell_type": "code",
   "execution_count": null,
   "metadata": {},
   "outputs": [],
   "source": [
    "from mlflow.recipes import Recipe"
   ]
  },
  {
   "cell_type": "markdown",
   "metadata": {},
   "source": [
    "## Orchestrate\n",
    "\n",
    "Let's start cooking!"
   ]
  },
  {
   "cell_type": "code",
   "execution_count": null,
   "metadata": {},
   "outputs": [],
   "source": [
    "recipe = Recipe(profile=\"local\")"
   ]
  },
  {
   "cell_type": "code",
   "execution_count": null,
   "metadata": {},
   "outputs": [],
   "source": [
    "recipe.clean()"
   ]
  },
  {
   "cell_type": "markdown",
   "metadata": {},
   "source": [
    "### Ingest data\n",
    "\n",
    "* Data was compressed using zip which (apparently) is not natively supported by Ray (it's an odd choice for a compression algorithm anyway)\n",
    "* Need to semi-automatically unzip archives"
   ]
  },
  {
   "cell_type": "code",
   "execution_count": null,
   "metadata": {},
   "outputs": [],
   "source": [
    "recipe.run(step=\"ingest\")"
   ]
  },
  {
   "cell_type": "markdown",
   "metadata": {},
   "source": [
    "### Split data into train, validation and test\n",
    "\n",
    "* Splitting data using Ray built-in functions (`train_test_split`) does not work, since Recipes expect a _single_ pandas Series as output\n",
    "* Similarly defining a custom filter function using Ray is painful, since Recipes expects a boolean series to index into the dataset"
   ]
  },
  {
   "cell_type": "code",
   "execution_count": null,
   "metadata": {},
   "outputs": [],
   "source": [
    "recipe.run(step=\"split\")"
   ]
  },
  {
   "cell_type": "markdown",
   "metadata": {},
   "source": [
    "### Transform data\n",
    "\n",
    "* Recipes demand that custom transform functions return a Scikit-learn like transformer (w.r.t function signatures), which make it tedious to implement non-sklearn logic (the last time I wrote custom transformers was in 7 years ago)\n",
    "* Transformation on target column have to be done elsewhere, i.e. in _split_ step, since target column in intransparenlty dropped from DataFrames by Recipes"
   ]
  },
  {
   "cell_type": "code",
   "execution_count": null,
   "metadata": {},
   "outputs": [],
   "source": [
    "recipe.run(step=\"transform\")"
   ]
  },
  {
   "cell_type": "markdown",
   "metadata": {},
   "source": [
    "### Train model\n",
    "\n",
    "* As with the transform step, the custom training function has to be compatible with Scikit-learn estimator, which makes its implementation tedious\n",
    "* Installing lightgbm via `poetry add ray[lightgbm]` is not enough to actually use LightGBM, one also needs to install the pure lightgbm package via `poetry add lightgbm`"
   ]
  },
  {
   "cell_type": "code",
   "execution_count": null,
   "metadata": {},
   "outputs": [],
   "source": [
    "recipe.run(step=\"train\")"
   ]
  },
  {
   "cell_type": "markdown",
   "metadata": {},
   "source": [
    "### Tune model"
   ]
  },
  {
   "cell_type": "code",
   "execution_count": null,
   "metadata": {},
   "outputs": [],
   "source": [
    "recipe.run(step=\"tune\")"
   ]
  },
  {
   "cell_type": "markdown",
   "metadata": {},
   "source": [
    "### Evaluate model"
   ]
  },
  {
   "cell_type": "code",
   "execution_count": null,
   "metadata": {},
   "outputs": [],
   "source": [
    "recipe.run(step=\"evaluate\")"
   ]
  },
  {
   "cell_type": "markdown",
   "metadata": {},
   "source": [
    "### Register model"
   ]
  },
  {
   "cell_type": "code",
   "execution_count": null,
   "metadata": {},
   "outputs": [],
   "source": [
    "recipe.run(step=\"register\")"
   ]
  },
  {
   "cell_type": "markdown",
   "metadata": {},
   "source": [
    "### Generate predictions"
   ]
  },
  {
   "cell_type": "code",
   "execution_count": null,
   "metadata": {},
   "outputs": [],
   "source": [
    "recipe.run(step=\"predict\")"
   ]
  },
  {
   "cell_type": "code",
   "execution_count": null,
   "metadata": {},
   "outputs": [],
   "source": []
  }
 ],
 "metadata": {
  "kernelspec": {
   "display_name": "rayflow-PcJ47SfJ-py3.10",
   "language": "python",
   "name": "python3"
  },
  "language_info": {
   "codemirror_mode": {
    "name": "ipython",
    "version": 3
   },
   "file_extension": ".py",
   "mimetype": "text/x-python",
   "name": "python",
   "nbconvert_exporter": "python",
   "pygments_lexer": "ipython3",
   "version": "3.11.4"
  }
 },
 "nbformat": 4,
 "nbformat_minor": 2
}
