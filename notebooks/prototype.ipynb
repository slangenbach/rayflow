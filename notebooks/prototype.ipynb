{
 "cells": [
  {
   "cell_type": "markdown",
   "metadata": {},
   "source": [
    "# Rayflow prototyping\n",
    "\n",
    "Tasks:\n",
    "\n",
    "* Build MLflow recipes to create a pipeline to ingest data, create features, train, tune, evaluate and serve a regression model\n",
    "* Model predicts *total_amount* given:\n",
    "    - passenger_count\n",
    "    - trip_distance\n",
    "    - rate_code_id\n",
    "    - payment_type\n",
    "\n",
    "Notes:\n",
    "* MLflow recipes are rather limited\n",
    "    - no possibility to add custom steps\n",
    "    - it's unclear how to pass arguments to custom functions\n",
    "* Documentation is awful\n",
    "    - It's unclear how data flows between steps: Are they passed as dataframes in memory?\n",
    "    - Are they automatically loaded from disk?\n",
    "* Examples could be more detailed\n",
    "* Data dictionary of NYC Taxi dataset is outdated\n",
    "* Ray however, is super powerful and well documented\n"
   ]
  },
  {
   "cell_type": "markdown",
   "metadata": {},
   "source": [
    "## Setup"
   ]
  },
  {
   "cell_type": "code",
   "execution_count": null,
   "metadata": {},
   "outputs": [],
   "source": [
    "from mlflow.recipes import Recipe"
   ]
  },
  {
   "cell_type": "markdown",
   "metadata": {},
   "source": [
    "## Orchestrate"
   ]
  },
  {
   "cell_type": "code",
   "execution_count": null,
   "metadata": {},
   "outputs": [],
   "source": [
    "recipe = Recipe(profile=\"local\")"
   ]
  },
  {
   "cell_type": "code",
   "execution_count": null,
   "metadata": {},
   "outputs": [],
   "source": [
    "recipe.clean()"
   ]
  },
  {
   "cell_type": "code",
   "execution_count": null,
   "metadata": {},
   "outputs": [],
   "source": [
    "recipe.run(step=\"ingest\")"
   ]
  },
  {
   "cell_type": "code",
   "execution_count": null,
   "metadata": {},
   "outputs": [],
   "source": [
    "recipe.run(step=\"split\")"
   ]
  },
  {
   "cell_type": "code",
   "execution_count": null,
   "metadata": {},
   "outputs": [],
   "source": []
  }
 ],
 "metadata": {
  "kernelspec": {
   "display_name": "rayflow-PcJ47SfJ-py3.10",
   "language": "python",
   "name": "python3"
  },
  "language_info": {
   "codemirror_mode": {
    "name": "ipython",
    "version": 3
   },
   "file_extension": ".py",
   "mimetype": "text/x-python",
   "name": "python",
   "nbconvert_exporter": "python",
   "pygments_lexer": "ipython3",
   "version": "3.10.12"
  }
 },
 "nbformat": 4,
 "nbformat_minor": 2
}
