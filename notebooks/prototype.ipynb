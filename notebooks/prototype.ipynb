{
 "cells": [
  {
   "cell_type": "markdown",
   "metadata": {},
   "source": [
    "# Rayflow prototyping\n",
    "\n",
    "Explore [MLflow recipes][1] with [Ray][2] using a large dataset.\n",
    "\n",
    "#### Task\n",
    "\n",
    "* Build MLflow recipe to create a pipeline to ingest data, create features, train, tune, evaluate and serve a regression model\n",
    "* Model predicts *fare_amount* given:\n",
    "    - passenger_count\n",
    "    - trip_distance\n",
    "    - rate_code_id\n",
    "    - payment_type\n",
    "\n",
    "### General notes\n",
    "\n",
    "* Ray is super powerful\n",
    "* MLflow recipes are rather limited\n",
    "    - no possibility to add custom steps\n",
    "    - it's unclear how to pass arguments to custom functions\n",
    "* Documentation of MLflow recipes is awful\n",
    "    - It's unclear how data flows between steps: Are they passed as dataframes in memory? Are they automatically loaded from disk?\n",
    "    - Examples could be more detailed\n",
    "* Data dictionary of NYC Taxi dataset is outdated\n",
    "\n",
    "\n",
    "[1]: https://mlflow.org/docs/latest/recipes.html\n",
    "[2]: https://docs.ray.io/en/latest/"
   ]
  },
  {
   "cell_type": "markdown",
   "metadata": {},
   "source": [
    "## Setup"
   ]
  },
  {
   "cell_type": "code",
   "execution_count": null,
   "metadata": {},
   "outputs": [],
   "source": [
    "from mlflow.recipes import Recipe"
   ]
  },
  {
   "cell_type": "markdown",
   "metadata": {},
   "source": [
    "## Orchestrate"
   ]
  },
  {
   "cell_type": "code",
   "execution_count": null,
   "metadata": {},
   "outputs": [],
   "source": [
    "recipe = Recipe(profile=\"local\")"
   ]
  },
  {
   "cell_type": "code",
   "execution_count": null,
   "metadata": {},
   "outputs": [],
   "source": [
    "recipe.clean()"
   ]
  },
  {
   "cell_type": "markdown",
   "metadata": {},
   "source": [
    "### Ingest data"
   ]
  },
  {
   "cell_type": "code",
   "execution_count": null,
   "metadata": {},
   "outputs": [],
   "source": [
    "recipe.run(step=\"ingest\")"
   ]
  },
  {
   "cell_type": "markdown",
   "metadata": {},
   "source": [
    "### Split data into train, validation and test"
   ]
  },
  {
   "cell_type": "code",
   "execution_count": null,
   "metadata": {},
   "outputs": [],
   "source": [
    "recipe.run(step=\"split\")"
   ]
  },
  {
   "cell_type": "markdown",
   "metadata": {},
   "source": [
    "### Transform data"
   ]
  },
  {
   "cell_type": "code",
   "execution_count": null,
   "metadata": {},
   "outputs": [],
   "source": [
    "recipe.run(step=\"transform\")"
   ]
  },
  {
   "cell_type": "markdown",
   "metadata": {},
   "source": [
    "### Train model"
   ]
  },
  {
   "cell_type": "markdown",
   "metadata": {},
   "source": []
  }
 ],
 "metadata": {
  "kernelspec": {
   "display_name": "rayflow-PcJ47SfJ-py3.10",
   "language": "python",
   "name": "python3"
  },
  "language_info": {
   "codemirror_mode": {
    "name": "ipython",
    "version": 3
   },
   "file_extension": ".py",
   "mimetype": "text/x-python",
   "name": "python",
   "nbconvert_exporter": "python",
   "pygments_lexer": "ipython3",
   "version": "3.11.4"
  }
 },
 "nbformat": 4,
 "nbformat_minor": 2
}
